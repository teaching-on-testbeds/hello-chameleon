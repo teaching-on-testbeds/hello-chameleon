{
 "cells": [
  {
   "cell_type": "markdown",
   "metadata": {},
   "source": [
    "# Hello, Chameleon"
   ]
  },
  {
   "cell_type": "markdown",
   "metadata": {},
   "source": [
    "In this notebook, you will pick up where you left off after creating a Chameleon account, joining a Chameleon project, and preparing key pair. Now, you will learn how to:\n",
    "\n",
    "-   Reserve resources in Chameleon\n",
    "-   Access your reserved resources over SSH\n",
    "-   Execute commands on your resources\n",
    "-   Retrieving files saved on Chameleon resources\n",
    "-   Extend your Chameleon lease (in case you need more time) or delete it (in case you finish early)"
   ]
  },
  {
   "cell_type": "markdown",
   "metadata": {},
   "source": [
    "## Exercise: reserve resources\n",
    "\n",
    "Whenever you run an experiment on Chameleon, you will\n",
    "\n",
    "1.  Open a Python notebook, which includes commands to reserve and configure the resources (VMs, bare metal servers, or networks) that you need for your experiment. Run these commands.\n",
    "2.  Wait until the resources in your experiment are ready to log in.\n",
    "3.  Log in to the resources and run your experiment (either by executing commands in the notebook, or by using SSH in a terminal and running commands in those SSH sessions).\n",
    "\n",
    "Also, when you finish an experiment and have saved all the data somewhere safe, you will *delete* the resources in your experiment to free them for use by other experimenters.\n",
    "\n",
    "In this exercise, we will reserve a single virtual machine on Chameleon, and practice logging in to execute commands on this VM."
   ]
  },
  {
   "cell_type": "markdown",
   "metadata": {},
   "source": [
    "First, we will need to initialize the environment - tell it what Chameleon project to associate our experiment with.\n",
    "\n",
    "You should already be a part of a Chameleon project, which has a project ID in the form “CHI-XXXXX”. If you don’t know your project ID, you can find it by logging in to the Chameleon web portal, and checking your [dashboard](https://chameleoncloud.org/user/dashboard/). When you run the next cell, you will see a drop-down menu for selecting your project.\n",
    "\n",
    "We will also indicate which Chameleon site we want to use. Since this experiment uses a virtual machine, the site will be KVM@TACC - the only Chameleon site that supports VMs."
   ]
  },
  {
   "cell_type": "code",
   "execution_count": null,
   "metadata": {},
   "outputs": [],
   "source": [
    "import chi, os, time, datetime\n",
    "from chi import lease\n",
    "from chi import server\n",
    "from chi import context\n",
    "from chi import hardware\n",
    "\n",
    "context.version = \"1.0\" \n",
    "context.choose_project()\n",
    "context.choose_site(default=\"KVM@TACC\")\n",
    "username = os.getenv('USER') # all exp resources will have this suffix"
   ]
  },
  {
   "cell_type": "markdown",
   "metadata": {},
   "source": [
    "Next, we’ll give our resource a name. Every resource in a project should have a unique name, so we will include a username, as well as a description of the experiment, in the name."
   ]
  },
  {
   "cell_type": "code",
   "execution_count": null,
   "metadata": {},
   "outputs": [],
   "source": [
    "exp_name = \"hello_chameleon\"\n",
    "server_name = f\"{exp_name}-{username}\""
   ]
  },
  {
   "cell_type": "markdown",
   "metadata": {},
   "source": [
    "Now we are ready to ask Chameleon to allocate a resource to us! For a VM, we specify the “flavor” or size of the resource (in terms of CPU, memory, and storage) and the operating system image that we want to have pre-installed."
   ]
  },
  {
   "cell_type": "code",
   "execution_count": null,
   "metadata": {},
   "outputs": [],
   "source": [
    "flavor_name = \"m1.small\"\n",
    "image_name = \"CC-Ubuntu24.04\"\n",
    "s = server.Server(\n",
    "    name=server_name,\n",
    "    image_name=image_name,\n",
    "    flavor_name=flavor_name\n",
    ")\n",
    "s.submit(idempotent=True)"
   ]
  },
  {
   "cell_type": "markdown",
   "metadata": {},
   "source": [
    "Once the resource is allocated and ready, we will associate a network address to it, so that we can log in to the resource over the Internet using the SSH protocol."
   ]
  },
  {
   "cell_type": "code",
   "execution_count": null,
   "metadata": {},
   "outputs": [],
   "source": [
    "s.associate_floating_ip()"
   ]
  },
  {
   "cell_type": "code",
   "execution_count": null,
   "metadata": {},
   "outputs": [],
   "source": [
    "reserved_fip = s.get_floating_ip()\n",
    "print(reserved_fip)"
   ]
  },
  {
   "cell_type": "markdown",
   "metadata": {},
   "source": [
    "There’s one more step before we can log in to the resource - by default, all connections to VM resources are blocked, as a security measure. We will need to add a “security group” that permits SSH connections to our project (if it does not already exist), then attach this security group to our VM resource."
   ]
  },
  {
   "cell_type": "code",
   "execution_count": null,
   "metadata": {},
   "outputs": [],
   "source": [
    "# configure openstacksdk for actions unsupported by python-chi\n",
    "os_conn = chi.clients.connection()\n",
    "\n",
    "if not os_conn.get_security_group(\"allow-ssh\"):\n",
    "    os_conn.create_security_group(\"allow-ssh\", \"Enable SSH traffic on TCP port 22\")\n",
    "    os_conn.create_security_group_rule(\"allow-ssh\", port_range_min=22, port_range_max=22, protocol='tcp', remote_ip_prefix='0.0.0.0/0')\n",
    "\n",
    "nova_server = chi.nova().servers.get(s.id)\n",
    "nova_server.add_security_group(\"allow-ssh\")\n",
    "f\"updated security groups: {[group.name for group in nova_server.list_security_group()]}\""
   ]
  },
  {
   "cell_type": "markdown",
   "metadata": {},
   "source": [
    "That’s all we need to do to prepare a resource to log in! Run the following cell - when it returns, it means that the VM resource is ready for you to log in."
   ]
  },
  {
   "cell_type": "code",
   "execution_count": null,
   "metadata": {},
   "outputs": [],
   "source": [
    "s.check_connectivity()"
   ]
  },
  {
   "cell_type": "markdown",
   "metadata": {},
   "source": [
    "## Exercise: log in to resources and execute commands\n",
    "\n",
    "In this exercise, we’ll practice running commands on the VM resource in three ways:\n",
    "\n",
    "-   by opening an SSH session in the terminal inside this Jupyter environment, and running commands in that session,\n",
    "-   by opening an SSH session in a local terminal and running commands in that session.\n",
    "-   by using the `python-chi` Python interface to execute commands from within this Python notebook."
   ]
  },
  {
   "cell_type": "markdown",
   "metadata": {},
   "source": [
    "### Log in over SSH from Jupyter environment\n",
    "\n",
    "One of the easiest ways to log in to your VM is to open a shell inside the Jupyter environment, and log in over SSH from that shell.\n",
    "\n",
    "In the Chameleon JupyterHub environment, click File \\> New \\> Terminal. This will open another tab in the Jupyter environment, with a shell session."
   ]
  },
  {
   "cell_type": "markdown",
   "metadata": {},
   "source": [
    "Now, run this cell to get the SSH login command. Copy the output of the cell:"
   ]
  },
  {
   "cell_type": "code",
   "execution_count": null,
   "metadata": {},
   "outputs": [],
   "source": [
    "print(f\"ssh cc@{reserved_fip}\")"
   ]
  },
  {
   "cell_type": "markdown",
   "metadata": {},
   "source": [
    "then switch to your terminal shell tab, paste the SSH login command, and hit Enter."
   ]
  },
  {
   "cell_type": "markdown",
   "metadata": {},
   "source": [
    "The first time you log in to each new host, you may see a warning similar to the following:\n",
    "\n",
    "``` shell\n",
    "The authenticity of host \"129.114.26.xx (129.114.26.xx)\" cannot be established.\n",
    "ED25519 key fingerprint is SHA256:1fcbGrgLDdOeorauhz3CTyhmFqOHsrEWlu0TZ6yGoDM.\n",
    "This key is not known by any other names\n",
    "Are you sure you want to continue connecting (yes/no/[fingerprint])?\n",
    "```\n",
    "\n",
    "and you will have to type the word *yes* and hit Enter to continue."
   ]
  },
  {
   "cell_type": "markdown",
   "metadata": {},
   "source": [
    "Then, you’ll be logged in! To validate that you are logged in to the remote host, and not running commands directly in the Jupyter shell environment, run\n",
    "\n",
    "``` shell\n",
    "hostname\n",
    "```\n",
    "\n",
    "and verify that the output starts with “hello-chameleon”. (This is the hostname we assigned to our VM resource!)"
   ]
  },
  {
   "cell_type": "markdown",
   "metadata": {},
   "source": [
    "### Log in over SSH from local terminal\n",
    "\n",
    "To log in to the VM over SSH from your local terminal, you will follow a similar process:\n",
    "\n",
    "-   open the terminal application *installed on your computer*,\n",
    "-   run the cell below, which will print an SSH login command,\n",
    "-   copy this command and make any necessary modifications (if needed, as described in the following cell),\n",
    "-   paste it into your terminal and hit Enter.\n",
    "\n",
    "In this case, you will specify the key location as part of the SSH command. These instructions assume that, as described in the previous steps, you have created a key pair named `id_rsa_chameleon`, put it in the default `.ssh` subdirectory in your home directory, and uploaded it to the KVM@TACC web interface."
   ]
  },
  {
   "cell_type": "code",
   "execution_count": null,
   "metadata": {},
   "outputs": [],
   "source": [
    "print(f\"ssh -i ~/.ssh/id_rsa_chameleon cc@{reserved_fip}\")"
   ]
  },
  {
   "cell_type": "markdown",
   "metadata": {},
   "source": [
    "If your Chameleon key is in a different location, or has a different name, then you may need to modify the `~/.ssh/id_rsa_chameleon` part of this command to point to *your* key."
   ]
  },
  {
   "cell_type": "markdown",
   "metadata": {},
   "source": [
    "The first time you log in to each new host, your computer may display a warning similar to the following:\n",
    "\n",
    "``` shell\n",
    "The authenticity of host \"129.114.26.xx (129.114.26.xx)\" cannot be established.\n",
    "ED25519 key fingerprint is SHA256:1fcbGrgLDdOeorauhz3CTyhmFqOHsrEWlu0TZ6yGoDM.\n",
    "This key is not known by any other names\n",
    "Are you sure you want to continue connecting (yes/no/[fingerprint])?\n",
    "```\n",
    "\n",
    "and you will have to type the word *yes* and hit Enter to continue.\n",
    "\n",
    "If you have specified your key path and other details correctly, it won’t ask you for a password when you log in to the resource. (It may ask for the passphrase for your private key if you’ve set one.)"
   ]
  },
  {
   "cell_type": "markdown",
   "metadata": {},
   "source": [
    "Let’s practice running a command in this remote session. Copy and paste the following command into the SSH terminal, to create a file and populate it with a “hello” message:\n",
    "\n",
    "``` shell\n",
    "echo \"Hello from $(hostname)\" > hello.txt\n",
    "```\n",
    "\n",
    "then check the file contents:\n",
    "\n",
    "``` shell\n",
    "cat hello.txt\n",
    "```\n",
    "\n",
    "Now we will use this file “hello.txt” in a later exercise, when we want to practice transferring files between the remote host and our own laptop!"
   ]
  },
  {
   "cell_type": "markdown",
   "metadata": {},
   "source": [
    "### Using `python-chi` to execute commands on the remote host"
   ]
  },
  {
   "cell_type": "markdown",
   "metadata": {},
   "source": [
    "Finally, it’s useful to know that we can also execute commands over SSH on the remote instance, directly from a Python notebook! The following cell shows an example, where we run the `hostname` command using the `python-chi` library:"
   ]
  },
  {
   "cell_type": "code",
   "execution_count": null,
   "metadata": {},
   "outputs": [],
   "source": [
    "s.execute(f\"hostname\") "
   ]
  },
  {
   "cell_type": "markdown",
   "metadata": {},
   "source": [
    "## Exercise: transfer files to and from resources\n",
    "\n",
    "While working on a remote host, we will often want to transfer files from the remote host to our local filesystem, or vice versa.\n",
    "\n",
    "To move data back and forth between a terminal and a remote system that you access with *ssh*, we can use *scp*. The syntax is:\n",
    "\n",
    "``` shell\n",
    "scp [OPTIONS] SOURCE DESTINATION\n",
    "```\n",
    "\n",
    "where `SOURCE` is the full address of the location where the file is currently llocated, and `DESTINATION` is the address of the location that you want to copy a file to."
   ]
  },
  {
   "cell_type": "markdown",
   "metadata": {},
   "source": [
    "### Transfering files through the local terminal\n",
    "\n",
    "We previously generated a file on the remote VM, “hello.txt”. Now, we’ll use `scp` to transfer the file from the remote host to our laptop, make a change to it, then transfer it back."
   ]
  },
  {
   "cell_type": "markdown",
   "metadata": {},
   "source": [
    "You will run the `scp` command from your *local* terminal, not on the remote host. If you are still logged in over SSH to the remote host, type\n",
    "\n",
    "``` shell\n",
    "exit\n",
    "```\n",
    "\n",
    "to return to your local terminal. Check the terminal *prompt* and make sure it reflects that you are executing commands at your local terminal, and not on the Chameleon VM."
   ]
  },
  {
   "cell_type": "markdown",
   "metadata": {},
   "source": [
    "Then, we’ll need to generate an `scp` command to run, including:\n",
    "\n",
    "-   the location of the key you use to SSH into the remote host, e.g. `~/.ssh/id_rsa_chameleon`\n",
    "-   the username you use to SSH into the remote host, `cc` in this case\n",
    "-   the IP address or hostname you use to SSH into the remote host\n",
    "-   the location of the file you want to copy on the remote host, which is `/home/cc/hello.txt`\n",
    "-   and the location on your laptop to which you want to copy the file. We will copy it to the same location from which you run the scp command (`.` is shorthand for “my current working directory”),\n",
    "\n",
    "Run the cell below, to generate the `scp` command:"
   ]
  },
  {
   "cell_type": "code",
   "execution_count": null,
   "metadata": {},
   "outputs": [],
   "source": [
    "print(f'scp -i ~/.ssh/id_rsa_chameleon cc@{reserved_fip}:/home/cc/hello.txt .')\n"
   ]
  },
  {
   "cell_type": "markdown",
   "metadata": {},
   "source": [
    "Copy the command that is printed by the cell above, and make any changes if necessary (e.g. to the key location or name, or to the location in your local filesystem to which the file should be transferred). Then, execute it in your *local* shell. (Note that the `.` at the end is part of the command - don’t omit this part!)\n",
    "\n",
    "The output of this command should show that the file is transferred to your local filesystem:\n",
    "\n",
    "``` text\n",
    "hello.txt                       100%    1KB     0.1KB/s   00:00\n",
    "```"
   ]
  },
  {
   "cell_type": "markdown",
   "metadata": {},
   "source": [
    "When you have successfully transferred “hello.txt” from the remote host to your laptop, locate it in your local filesystem and open it in your preferred text editor. Make a change (any change!) to the file and save it.\n",
    "\n",
    "Then, we’ll transfer it back to the remote host! To transfer it back to the remote host, the `SOURCE` argument will become the location of the file in the local filesystem, and the `DESTINATION` will become the location to which the file should be transferred on the remote VM.\n",
    "\n",
    "Use the cell below to generate the `scp` command to transfer the file *to* the remote host:"
   ]
  },
  {
   "cell_type": "code",
   "execution_count": null,
   "metadata": {},
   "outputs": [],
   "source": [
    "print(f'scp -i ~/.ssh/id_rsa_chameleon hello.txt cc@{reserved_fip}:/home/cc/')\n"
   ]
  },
  {
   "cell_type": "markdown",
   "metadata": {},
   "source": [
    "Copy the command that is printed by the cell above, and make any changes (e.g. to the key location or name, or to the location in your local filesystem from which the file should be transferred). Then, execute the command in your *local* shell.\n",
    "\n",
    "The output of this command should show that the file is transferred to the remote filesystem:\n",
    "\n",
    "``` text\n",
    "hello.txt                       100%    1KB     0.1KB/s   00:00\n",
    "```"
   ]
  },
  {
   "cell_type": "markdown",
   "metadata": {},
   "source": [
    "To validate that the changes you made locally are now reflected in the version of the file that is on the remote host, use the SSH command from the previous section to log in to the remote host again, and run\n",
    "\n",
    "``` shell\n",
    "cat hello.txt\n",
    "```\n",
    "\n",
    "in the SSH session. Verify that your changes appear in the output."
   ]
  },
  {
   "cell_type": "markdown",
   "metadata": {},
   "source": [
    "## Exercise: Hello, Linux\n",
    "\n",
    "If you are not very comfortable working at the Linux terminal, then before you delete your virtual machine, you can take the opportunity to learn a few basic commands, following the instructions in: [Hello, Linux](https://teaching-on-testbeds.github.io/hello-linux/index-chi)"
   ]
  },
  {
   "cell_type": "markdown",
   "metadata": {},
   "source": [
    "## Exercise: delete resources\n",
    "\n",
    "Chameleon is a shared facility, and it is important to be mindful of your resource usage and to “free” resources for use by other experimenters when you are finished with them.\n",
    "\n",
    "In the cell below, uncomment the line of code, then run the cell to free the VM and the network address you attached to it.\n",
    "\n",
    "Note that removing the resources will revoke your access to them, and all the information stored on them will be erased. Therefore, ensure that you have saved all your work before deleting the resources."
   ]
  },
  {
   "cell_type": "code",
   "execution_count": null,
   "metadata": {},
   "outputs": [],
   "source": [
    "# s.delete()"
   ]
  }
 ],
 "nbformat": 4,
 "nbformat_minor": 0,
 "metadata": {
  "kernelspec": {
   "name": "python",
   "display_name": "Python 3"
  }
 }
}
